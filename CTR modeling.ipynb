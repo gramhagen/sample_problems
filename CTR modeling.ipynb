{
  "cells": [
    {
      "metadata": {
        "trusted": true
      },
      "cell_type": "code",
      "source": "from __future__ import division\nimport numpy as np\nimport pandas as pd\nimport statsmodels.api as sm\nfrom sklearn.linear_model import LogisticRegression\nfrom sklearn.metrics import confusion_matrix\nfrom sklearn.grid_search import GridSearchCV\n\ndef get_click_data(impressions_count):\n    feats = 10 #Number of features\n    feat_occurence = 0.2 #Probability that a feature occurs in any feature vector\n\n    coefficients = 0.1*np.random.randn(feats) #Random feature occurence\n    coefficients[0] = -3 #Ensure CTR is low\n    \n    #Random occurence of features\n    features = np.random.binomial(1,feat_occurence,size = [feats,impressions_count])\n    features[0] = np.ones(impressions_count)#Add a 'constant' feature\n    features = features.T\n    score = features.dot(coefficients)\n    p = 1/(1+np.exp(-score))\n    clicks = np.random.binomial(1, p) \n    \n    return clicks, features",
      "execution_count": 11,
      "outputs": []
    },
    {
      "metadata": {},
      "cell_type": "markdown",
      "source": "# Problem description\nIn the following we are going to estimate the click through rate of a new article given its contents. The contents are described using boolean features. The function `get_click_data()` generates sample data for you. The goal is \n* split the data into train/test set\n* Measure average click through rate\n* Build a model and evaluate it on the test data\n\n### Required solution components\n* Justification for the chosen model\n* Justification for the choice of loss function\n* Empirical evaluation metrics"
    },
    {
      "metadata": {
        "trusted": true
      },
      "cell_type": "code",
      "source": "clicks, features = get_click_data(10000)",
      "execution_count": 12,
      "outputs": []
    },
    {
      "metadata": {
        "trusted": true
      },
      "cell_type": "code",
      "source": "data = pd.DataFrame(features)\ndata['clicks'] = clicks\ndata.describe()",
      "execution_count": 13,
      "outputs": [
        {
          "output_type": "execute_result",
          "execution_count": 13,
          "data": {
            "text/plain": "             0             1             2             3             4  \\\ncount  10000.0  10000.000000  10000.000000  10000.000000  10000.000000   \nmean       1.0      0.201100      0.201100      0.202500      0.197700   \nstd        0.0      0.400843      0.400843      0.401883      0.398285   \nmin        1.0      0.000000      0.000000      0.000000      0.000000   \n25%        1.0      0.000000      0.000000      0.000000      0.000000   \n50%        1.0      0.000000      0.000000      0.000000      0.000000   \n75%        1.0      0.000000      0.000000      0.000000      0.000000   \nmax        1.0      1.000000      1.000000      1.000000      1.000000   \n\n                  5             6             7             8             9  \\\ncount  10000.000000  10000.000000  10000.000000  10000.000000  10000.000000   \nmean       0.203500      0.202300      0.198400      0.191300      0.204000   \nstd        0.402621      0.401735      0.398815      0.393344      0.402989   \nmin        0.000000      0.000000      0.000000      0.000000      0.000000   \n25%        0.000000      0.000000      0.000000      0.000000      0.000000   \n50%        0.000000      0.000000      0.000000      0.000000      0.000000   \n75%        0.000000      0.000000      0.000000      0.000000      0.000000   \nmax        1.000000      1.000000      1.000000      1.000000      1.000000   \n\n             clicks  \ncount  10000.000000  \nmean       0.051500  \nstd        0.221026  \nmin        0.000000  \n25%        0.000000  \n50%        0.000000  \n75%        0.000000  \nmax        1.000000  ",
            "text/html": "<div>\n<style scoped>\n    .dataframe tbody tr th:only-of-type {\n        vertical-align: middle;\n    }\n\n    .dataframe tbody tr th {\n        vertical-align: top;\n    }\n\n    .dataframe thead th {\n        text-align: right;\n    }\n</style>\n<table border=\"1\" class=\"dataframe\">\n  <thead>\n    <tr style=\"text-align: right;\">\n      <th></th>\n      <th>0</th>\n      <th>1</th>\n      <th>2</th>\n      <th>3</th>\n      <th>4</th>\n      <th>5</th>\n      <th>6</th>\n      <th>7</th>\n      <th>8</th>\n      <th>9</th>\n      <th>clicks</th>\n    </tr>\n  </thead>\n  <tbody>\n    <tr>\n      <th>count</th>\n      <td>10000.0</td>\n      <td>10000.000000</td>\n      <td>10000.000000</td>\n      <td>10000.000000</td>\n      <td>10000.000000</td>\n      <td>10000.000000</td>\n      <td>10000.000000</td>\n      <td>10000.000000</td>\n      <td>10000.000000</td>\n      <td>10000.000000</td>\n      <td>10000.000000</td>\n    </tr>\n    <tr>\n      <th>mean</th>\n      <td>1.0</td>\n      <td>0.201100</td>\n      <td>0.201100</td>\n      <td>0.202500</td>\n      <td>0.197700</td>\n      <td>0.203500</td>\n      <td>0.202300</td>\n      <td>0.198400</td>\n      <td>0.191300</td>\n      <td>0.204000</td>\n      <td>0.051500</td>\n    </tr>\n    <tr>\n      <th>std</th>\n      <td>0.0</td>\n      <td>0.400843</td>\n      <td>0.400843</td>\n      <td>0.401883</td>\n      <td>0.398285</td>\n      <td>0.402621</td>\n      <td>0.401735</td>\n      <td>0.398815</td>\n      <td>0.393344</td>\n      <td>0.402989</td>\n      <td>0.221026</td>\n    </tr>\n    <tr>\n      <th>min</th>\n      <td>1.0</td>\n      <td>0.000000</td>\n      <td>0.000000</td>\n      <td>0.000000</td>\n      <td>0.000000</td>\n      <td>0.000000</td>\n      <td>0.000000</td>\n      <td>0.000000</td>\n      <td>0.000000</td>\n      <td>0.000000</td>\n      <td>0.000000</td>\n    </tr>\n    <tr>\n      <th>25%</th>\n      <td>1.0</td>\n      <td>0.000000</td>\n      <td>0.000000</td>\n      <td>0.000000</td>\n      <td>0.000000</td>\n      <td>0.000000</td>\n      <td>0.000000</td>\n      <td>0.000000</td>\n      <td>0.000000</td>\n      <td>0.000000</td>\n      <td>0.000000</td>\n    </tr>\n    <tr>\n      <th>50%</th>\n      <td>1.0</td>\n      <td>0.000000</td>\n      <td>0.000000</td>\n      <td>0.000000</td>\n      <td>0.000000</td>\n      <td>0.000000</td>\n      <td>0.000000</td>\n      <td>0.000000</td>\n      <td>0.000000</td>\n      <td>0.000000</td>\n      <td>0.000000</td>\n    </tr>\n    <tr>\n      <th>75%</th>\n      <td>1.0</td>\n      <td>0.000000</td>\n      <td>0.000000</td>\n      <td>0.000000</td>\n      <td>0.000000</td>\n      <td>0.000000</td>\n      <td>0.000000</td>\n      <td>0.000000</td>\n      <td>0.000000</td>\n      <td>0.000000</td>\n      <td>0.000000</td>\n    </tr>\n    <tr>\n      <th>max</th>\n      <td>1.0</td>\n      <td>1.000000</td>\n      <td>1.000000</td>\n      <td>1.000000</td>\n      <td>1.000000</td>\n      <td>1.000000</td>\n      <td>1.000000</td>\n      <td>1.000000</td>\n      <td>1.000000</td>\n      <td>1.000000</td>\n      <td>1.000000</td>\n    </tr>\n  </tbody>\n</table>\n</div>"
          },
          "metadata": {}
        }
      ]
    }
  ],
  "metadata": {
    "kernelspec": {
      "name": "python2",
      "display_name": "Python 2",
      "language": "python"
    },
    "language_info": {
      "mimetype": "text/x-python",
      "nbconvert_exporter": "python",
      "name": "python",
      "pygments_lexer": "ipython2",
      "version": "2.7.15",
      "file_extension": ".py",
      "codemirror_mode": {
        "version": 2,
        "name": "ipython"
      }
    }
  },
  "nbformat": 4,
  "nbformat_minor": 2
}