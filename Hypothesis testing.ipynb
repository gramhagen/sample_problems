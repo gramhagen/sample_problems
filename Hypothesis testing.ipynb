{
  "cells": [
    {
      "metadata": {},
      "cell_type": "markdown",
      "source": "## Difference in Revenue Per Purchase \nThere are two datasets below of Revenue Per Purchase. Perhaps they are from week 1 and week 2 on an ecommerce site. Do the average Revenue Per Purchase differ between the datasets? Is the difference statistically significant?\nFeel free to use the internet and third-party packages as long as you can explain your conclusions"
    },
    {
      "metadata": {
        "trusted": true
      },
      "cell_type": "code",
      "source": "# Function\nget_CI <-  function(x) t.test(x)$conf.int",
      "execution_count": 1,
      "outputs": []
    },
    {
      "metadata": {
        "trusted": true
      },
      "cell_type": "code",
      "source": "RPP1 = c(22.23797968,  19.6854277 ,  22.91378657,  26.48009789,\n        18.94536909,  21.84125098,  18.87220736,  25.47550611,\n        25.88771055,  22.29343023,  15.94802335,  17.3864208 ,\n        20.53457412,  19.3518878 ,  19.04897486,  15.62000878,\n        22.61922389,  26.13074925,  25.11331042,  18.36565051,\n        24.43688708,  20.69256206,  21.44092929,  20.08253564,\n        23.05770033,  21.42249828,  17.51191475,  22.59509884,\n        15.73679595,  17.90626576,  24.49962729,  24.52722509,\n        22.27210704,  19.26224678,  17.63529516,  19.19587794,\n        20.89594243,  22.9187271 ,  16.28845051,  20.27550838,\n        18.90638064,  26.13078624,  20.46051417,  19.17805512,\n        23.8195819 ,  20.91988229,  21.71486499,  19.86785719,\n        20.90130144,  20.48115887)\n\nRPP2 = c(25.96494382,  19.78825383,  23.18449638,  19.41592725,\n        23.24291792,  25.11931179,  27.14248843,  23.31470662,\n        25.47666428,  24.78806774,  24.71130416,  23.10698725,\n        16.3228043 ,  23.15680654,  19.00107648,  21.20719352,\n        25.37726531,  23.48998392,  20.77760742,  25.94342408,\n        16.29181058,  17.74675521,  21.76036568,  15.58993921,\n        19.18591884,  25.62855524,  21.8844894 ,  25.43591693,\n        26.09802243,  20.09239169,  26.43104939,  22.5085722 ,\n        22.11545032,  16.64781124,  19.54731685,  24.96056548,\n        21.68243684,  22.6249297 ,  21.79777711,  24.28636267,\n        23.07965352,  21.43505614,  24.04978293,  21.38642043,\n        23.50661586,  26.33190377,  17.39167253,  20.16599361,\n        23.98532169,  20.77718748)",
      "execution_count": 2,
      "outputs": []
    },
    {
      "metadata": {
        "trusted": true
      },
      "cell_type": "code",
      "source": "# Here are the mean and standard deviations\nmean.1<- mean(RPP1)\nsd.1<- sd(RPP1)",
      "execution_count": 3,
      "outputs": []
    },
    {
      "metadata": {
        "trusted": true
      },
      "cell_type": "code",
      "source": "mean.2<-mean(RPP2)\nsd.2<-sd(RPP2)\n\nmean.1; sd.1; mean.2; sd.2",
      "execution_count": 4,
      "outputs": [
        {
          "output_type": "display_data",
          "data": {
            "text/plain": "[1] 20.99572",
            "text/latex": "20.9957233698",
            "text/markdown": "20.9957233698",
            "text/html": "20.9957233698"
          },
          "metadata": {}
        },
        {
          "output_type": "display_data",
          "data": {
            "text/plain": "[1] 2.868114",
            "text/latex": "2.86811420025343",
            "text/markdown": "2.86811420025343",
            "text/html": "2.86811420025343"
          },
          "metadata": {}
        },
        {
          "output_type": "display_data",
          "data": {
            "text/plain": "[1] 22.29917",
            "text/latex": "22.2991655202",
            "text/markdown": "22.2991655202",
            "text/html": "22.2991655202"
          },
          "metadata": {}
        },
        {
          "output_type": "display_data",
          "data": {
            "text/plain": "[1] 2.987559",
            "text/latex": "2.9875591485365",
            "text/markdown": "2.9875591485365",
            "text/html": "2.9875591485365"
          },
          "metadata": {}
        }
      ]
    },
    {
      "metadata": {
        "trusted": true
      },
      "cell_type": "code",
      "source": "",
      "execution_count": null,
      "outputs": []
    }
  ],
  "metadata": {
    "kernelspec": {
      "name": "r",
      "display_name": "R",
      "language": "R"
    },
    "language_info": {
      "mimetype": "text/x-r-source",
      "name": "R",
      "pygments_lexer": "r",
      "version": "3.5.3",
      "file_extension": ".r",
      "codemirror_mode": "r"
    }
  },
  "nbformat": 4,
  "nbformat_minor": 2
}